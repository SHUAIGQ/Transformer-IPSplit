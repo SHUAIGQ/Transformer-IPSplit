{
 "cells": [
  {
   "cell_type": "code",
   "execution_count": 4,
   "metadata": {},
   "outputs": [],
   "source": [
    "import pandas as pd\n",
    "from sklearn.preprocessing import StandardScaler, LabelEncoder\n",
    "\n",
    "data_path = '../raw-data/'\n",
    "output_path = '../data/'\n",
    "df = pd.read_csv(data_path + 'wustl_iiot_2021.csv', low_memory=False)\n",
    "df = df.sort_values(by=['StartTime'])\n",
    "output_path = 'data/WUSTL-IIoT'\n",
    "\n",
    "df.to_csv(\"WUSTL-IIoT_dataset.csv\", index=False)\n"
   ]
  },
  {
   "cell_type": "code",
   "execution_count": null,
   "metadata": {},
   "outputs": [
    {
     "name": "stdout",
     "output_type": "stream",
     "text": [
      "<pandas.core.groupby.generic.DataFrameGroupBy object at 0x00000187FF69A180>\n"
     ]
    }
   ],
   "source": [
    "grouped = df.groupby('SrcAddr')\n",
    "values = 0\n",
    "\n",
    "print (grouped)\n",
    "for src_addr, group in grouped:\n",
    "    sanitized_src_addr = src_addr.replace(\":\", \"\").replace(\"/\", \"\")\n",
    "    output_file = f\"{sanitized_src_addr}_dataset.csv\"\n",
    "    group.to_csv(output_file, index=False)\n",
    "    print(f\"Saved: {output_file}\")\n"
   ]
  },
  {
   "cell_type": "code",
   "execution_count": null,
   "metadata": {},
   "outputs": [],
   "source": []
  }
 ],
 "metadata": {
  "kernelspec": {
   "display_name": "Python 3",
   "language": "python",
   "name": "python3"
  },
  "language_info": {
   "codemirror_mode": {
    "name": "ipython",
    "version": 3
   },
   "file_extension": ".py",
   "mimetype": "text/x-python",
   "name": "python",
   "nbconvert_exporter": "python",
   "pygments_lexer": "ipython3",
   "version": "3.12.9"
  }
 },
 "nbformat": 4,
 "nbformat_minor": 2
}
